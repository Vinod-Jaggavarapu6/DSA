{
 "cells": [
  {
   "cell_type": "markdown",
   "id": "437584f2-ddb3-4117-8c19-d0e9a021579f",
   "metadata": {},
   "source": [
    "# List"
   ]
  },
  {
   "cell_type": "code",
   "execution_count": 34,
   "id": "829b977a-09c4-495f-b62f-57dac3d5cfb0",
   "metadata": {},
   "outputs": [
    {
     "name": "stdout",
     "output_type": "stream",
     "text": [
      "[1, 2, 3, 4, 5]\n",
      "[1, 2, 3, 4, 5, 9, 6, 8]\n",
      "[1, 2, 3, 4, 5, 9, 6, 8, 10, 11, 12]\n",
      "[1, 2, 3, 4, 5, 9, 6, 8, 10, 11, 12, 'h', 'e', 'l', 'l', 'o']\n",
      "[1, 2, 'new', 3, 4, 5, 9, 6, 8, 10, 11, 12, 'h', 'e', 'l', 'l', 'o']\n",
      "new\n",
      "['1', '10', '11', '12', '2', '3', '4', '5', '6', '8', '9', 'e', 'h', 'l', 'l', 'o']\n",
      "['1', '10', '11', '12', '2', '3', '4', '5', '6', '8', '9', 'e', 'h', 'l', 'l', 'o', [1, 2, 3]]\n",
      "4357178432\n",
      "4357140224\n",
      "4357229120\n",
      "4357229120\n",
      "[]\n",
      "[('Charlie', 35), ('Alice', 30), ('Bob', 25)]\n",
      "[('Alice', 30), ('Bob', 25), ('Charlie', 35)]\n"
     ]
    }
   ],
   "source": [
    "l = [1,2,3,4]\n",
    "\n",
    "l.append(5)\n",
    "print(l)\n",
    "\n",
    "l.extend([9,6,8]) #list\n",
    "print(l)\n",
    "\n",
    "l.extend((10,11,12)) #tuple\n",
    "print(l)\n",
    "\n",
    "l.extend(\"hello\") #string\n",
    "print(l)\n",
    "\n",
    "l.insert(2,'new') #insert before index 2\n",
    "print(l)\n",
    "\n",
    "ele = l.pop(2)\n",
    "print(ele)\n",
    "\n",
    "\n",
    "l = list(map(str,l))\n",
    "l.sort(key=None,reverse=False)\n",
    "print(l)\n",
    "\n",
    "l.append([1,2,3])\n",
    "\n",
    "l_copy = l.copy() #shallow copy\n",
    "print(l_copy)\n",
    "\n",
    "print(id(l))\n",
    "print(id(l_copy))\n",
    "\n",
    "#Nestied wil have the same reference\n",
    "\n",
    "print(id(l[-1]))\n",
    "print(id(l_copy[-1]))\n",
    "\n",
    "l.clear()\n",
    "\n",
    "print(l)\n",
    "\n",
    "\n",
    "people = [(\"Alice\", 30), (\"Bob\", 25), (\"Charlie\", 35)]\n",
    "people.sort(key=(lambda t: -t[1])) #sory by age in increasing order\n",
    "print(people)\n",
    "\n",
    "sorted_people = sorted(people)\n",
    "print(sorted_people)"
   ]
  },
  {
   "cell_type": "markdown",
   "id": "e5ca67e6-7cf1-41b6-ba35-fb8b963f6f4d",
   "metadata": {},
   "source": [
    "# Dictionaries"
   ]
  },
  {
   "cell_type": "code",
   "execution_count": 48,
   "id": "44afe206-2595-4acd-8233-795378d67968",
   "metadata": {},
   "outputs": [
    {
     "name": "stdout",
     "output_type": "stream",
     "text": [
      "1\n",
      "None\n",
      "Not Found\n",
      "{'a': 1, 'b': 3, 'c': 4}\n",
      "3\n",
      "Not Found\n",
      "'d'\n",
      "dict_keys(['a', 'c'])\n",
      "dict_values([1, 4])\n",
      "['a', 'c']\n",
      "<class 'dict_keys'>\n",
      "dict_items([('a', 1), ('c', 4)])\n"
     ]
    }
   ],
   "source": [
    "my_dict = {'a': 1, 'b': 2, 'c': 3}\n",
    "\n",
    "print(my_dict.get('a'))\n",
    "\n",
    "print(my_dict.get('d'))\n",
    "\n",
    "print(my_dict.get('d','Not Found'))\n",
    "\n",
    "update_dict = {'b': 3, 'c': 4}\n",
    "my_dict.update(update_dict)\n",
    "print(my_dict)\n",
    "\n",
    "value = my_dict.pop('b')\n",
    "print(value)\n",
    "\n",
    "print(my_dict.pop('d','Not Found'))\n",
    "\n",
    "try:\n",
    "    my_dict.pop('d')\n",
    "except KeyError as e:\n",
    "    print(e)\n",
    "\n",
    "print(my_dict.keys()) #list of keys (view object)\n",
    "\n",
    "print(my_dict.values())\n",
    "\n",
    "v = my_dict.keys()\n",
    "\n",
    "v_l = list(v)\n",
    "print(v_l)\n",
    "print(type(v))\n",
    "\n",
    "print(my_dict.items())"
   ]
  },
  {
   "cell_type": "markdown",
   "id": "33885894-11ef-423a-883b-a9af070ed428",
   "metadata": {},
   "source": [
    "# Sets"
   ]
  },
  {
   "cell_type": "code",
   "execution_count": 52,
   "id": "3db87fa2-1bf4-4b8e-86a6-13be0684bcbf",
   "metadata": {},
   "outputs": [
    {
     "name": "stdout",
     "output_type": "stream",
     "text": [
      "{1, 2, 3, 4}\n",
      "{1, 3, 4}\n",
      "5\n"
     ]
    }
   ],
   "source": [
    "s = {1,2,3}\n",
    "s.add(4)\n",
    "print(s)\n",
    "s.add(2)\n",
    "\n",
    "s.remove(2)\n",
    "print(s)\n",
    "\n",
    "try:\n",
    "    s.remove(5)\n",
    "except KeyError as e:\n",
    "    print(e)"
   ]
  },
  {
   "cell_type": "markdown",
   "id": "21dbadac-95a1-433a-a388-08841924e105",
   "metadata": {},
   "source": [
    "# deque"
   ]
  },
  {
   "cell_type": "code",
   "execution_count": 55,
   "id": "d56c9608-1d26-4cd7-a92a-831030b15eb9",
   "metadata": {},
   "outputs": [
    {
     "name": "stdout",
     "output_type": "stream",
     "text": [
      "4\n",
      "0\n",
      "deque([3, 1, 2])\n",
      "deque([1, 2, 3])\n"
     ]
    }
   ],
   "source": [
    "from collections import deque\n",
    "\n",
    "d = deque([1,2,3])\n",
    "d.append(4)\n",
    "d.appendleft(0)\n",
    "r = d.pop()\n",
    "print(r)\n",
    "l = d.popleft()\n",
    "print(l)\n",
    "\n",
    "d.rotate(1)\n",
    "print(d)\n",
    "d.rotate(-1)\n",
    "print(d)\n"
   ]
  },
  {
   "cell_type": "markdown",
   "id": "da9a2ec4-83b4-4435-bf62-d39b42021897",
   "metadata": {},
   "source": [
    "# Counter -> counting hashable objects"
   ]
  },
  {
   "cell_type": "code",
   "execution_count": 56,
   "id": "41a1151d-52fe-4b2f-96e8-30748c8e41af",
   "metadata": {},
   "outputs": [
    {
     "name": "stdout",
     "output_type": "stream",
     "text": [
      "Counter({'b': 3, 'a': 2, 'c': 1})\n"
     ]
    }
   ],
   "source": [
    "from collections import Counter\n",
    "\n",
    "c = Counter(['a', 'b', 'c', 'a', 'b', 'b'])\n",
    "\n",
    "print(c)\n"
   ]
  },
  {
   "cell_type": "markdown",
   "id": "a803686e-825b-460e-85e4-1ec0ccd5741e",
   "metadata": {},
   "source": [
    "# Ordered Dictionary"
   ]
  },
  {
   "cell_type": "code",
   "execution_count": 57,
   "id": "3dd64755-72e4-48fc-a1e1-f5486f6d12a4",
   "metadata": {},
   "outputs": [
    {
     "name": "stdout",
     "output_type": "stream",
     "text": [
      "OrderedDict({'a': 1, 'b': 2, 'c': 3})\n"
     ]
    }
   ],
   "source": [
    "from collections import OrderedDict\n",
    "\n",
    "d = OrderedDict()\n",
    "d['a']  = 1\n",
    "d['b'] = 2\n",
    "d['c'] = 3\n",
    "\n",
    "print(d)"
   ]
  }
 ],
 "metadata": {
  "kernelspec": {
   "display_name": "Python 3 (ipykernel)",
   "language": "python",
   "name": "python3"
  },
  "language_info": {
   "codemirror_mode": {
    "name": "ipython",
    "version": 3
   },
   "file_extension": ".py",
   "mimetype": "text/x-python",
   "name": "python",
   "nbconvert_exporter": "python",
   "pygments_lexer": "ipython3",
   "version": "3.12.1"
  }
 },
 "nbformat": 4,
 "nbformat_minor": 5
}
