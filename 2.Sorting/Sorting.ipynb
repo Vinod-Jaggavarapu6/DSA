{
 "cells": [
  {
   "cell_type": "markdown",
   "id": "7770e2fc-1906-4f41-a252-e233167acc04",
   "metadata": {},
   "source": [
    "## Slelection Sort"
   ]
  },
  {
   "cell_type": "code",
   "execution_count": 8,
   "id": "5aa433d5-0bee-45ac-8229-cabb39b15f25",
   "metadata": {},
   "outputs": [
    {
     "name": "stdout",
     "output_type": "stream",
     "text": [
      "[9, 13, 20, 24, 46, 52]\n"
     ]
    }
   ],
   "source": [
    "#find the min index in the inner loop and swap with outer loop index \n",
    "\n",
    "#TimeComplexity: O(n^2)\n",
    "#Spacecomplexity: O(1)\n",
    "\n",
    "def selectionSort(arr:list[int])->list[int]:\n",
    "    \n",
    "    n = len(arr)\n",
    "    \n",
    "    for i in range(n-1):\n",
    "       \n",
    "        min_index = i\n",
    "        \n",
    "        for j in range(i,n):\n",
    "            if arr[j] < arr[min_index]:\n",
    "                min_index = j\n",
    "                \n",
    "        arr[i],arr[min_index] = arr[min_index],arr[i] #swap\n",
    "\n",
    "    return arr\n",
    "\n",
    "\n",
    "print(selectionSort([13,46,24,52,20,9]))\n",
    "\n",
    "\n",
    "        \n",
    "\n",
    "            \n",
    "            \n",
    "             \n",
    "        \n",
    "\n",
    "    \n",
    "    "
   ]
  },
  {
   "cell_type": "markdown",
   "id": "ef143637-191e-47a0-bf81-43bbf6b99f67",
   "metadata": {},
   "source": [
    "## Bubble Sort"
   ]
  },
  {
   "cell_type": "code",
   "execution_count": 11,
   "id": "78c9d5f2-dba5-42d2-bcf3-501e48fbeb76",
   "metadata": {},
   "outputs": [
    {
     "name": "stdout",
     "output_type": "stream",
     "text": [
      "[9, 13, 20, 24, 46, 52]\n"
     ]
    }
   ],
   "source": [
    "#TimeComplexity:O(n^2)\n",
    "#SpaceComplexity:O(1)\n",
    "#Move the max ele to last by adjacent swaps\n",
    "\n",
    "def bubbleSort(arr:list[int])->list[int]:\n",
    "    n = len(arr)\n",
    "    for i in range(n-1,0,-1):\n",
    "        isSwapped = False\n",
    "        for j in range(i):\n",
    "            if arr[j] > arr[j+1]:\n",
    "                arr[j],arr[j+1] = arr[j+1],arr[j]\n",
    "                isSwapped = True\n",
    "        if not isSwapped:\n",
    "            break\n",
    "    return arr\n",
    "\n",
    "print(bubbleSort([13,46,24,52,20,9]))\n",
    "            "
   ]
  },
  {
   "cell_type": "markdown",
   "id": "d2911470-d886-408d-9c1b-6967ffa06e72",
   "metadata": {},
   "source": [
    "## Insertion Sort"
   ]
  },
  {
   "cell_type": "code",
   "execution_count": 16,
   "id": "185386cc-4b32-4d65-8218-039cae829242",
   "metadata": {},
   "outputs": [
    {
     "name": "stdout",
     "output_type": "stream",
     "text": [
      "[6, 8, 9, 12, 13, 14, 15]\n"
     ]
    }
   ],
   "source": [
    "#Inserting and element in to the sorted array\n",
    "#:TC: O(n^2) worst case ,O(n) if array is already sorted\n",
    "#SC:O(1)\n",
    "def insertionSort(arr:list[int])->list[int]:\n",
    "    n = len(arr)\n",
    "    for i in range(1,n):\n",
    "        j = i-1\n",
    "         \n",
    "            if arr[j+1] < arr[j]:\n",
    "                arr[j+1],arr[j] = arr[j],arr[j+1]\n",
    "                j -=1\n",
    "            else:\n",
    "                break\n",
    "    return arr\n",
    "\n",
    "print(insertionSort([14,9,15,12,6,8,13]))\n",
    "            "
   ]
  },
  {
   "cell_type": "markdown",
   "id": "752a18fa-f738-4200-a611-e21f6ade1fd7",
   "metadata": {},
   "source": [
    "## Merge Sort"
   ]
  },
  {
   "cell_type": "code",
   "execution_count": 20,
   "id": "da817db0-0acc-4082-8a39-b5045f7d94a1",
   "metadata": {},
   "outputs": [
    {
     "name": "stdout",
     "output_type": "stream",
     "text": [
      "[1, 1, 2, 2, 3, 4, 4, 5, 6]\n"
     ]
    }
   ],
   "source": [
    "def merge(left,right):\n",
    "    i = j = 0\n",
    "    sorted_arr = []\n",
    "\n",
    "    while i< len(left) and j< len(right):\n",
    "        if left[i] <= right[j]:\n",
    "            sorted_arr.append(left[i])\n",
    "            i+=1\n",
    "        else:\n",
    "            sorted_arr.append(right[j])\n",
    "            j+=1\n",
    "\n",
    "    while i<len(left):\n",
    "        sorted_arr.append(left[i])\n",
    "        i+=1\n",
    "\n",
    "    while j < len(right):\n",
    "        sorted_arr.append(right[j])\n",
    "        j+=1\n",
    "\n",
    "    return sorted_arr\n",
    "                            \n",
    "                    \n",
    "    \n",
    "def mergeSort(arr:list[int])->list[int]:\n",
    "\n",
    "    if len(arr)<=1:\n",
    "        return arr\n",
    "        \n",
    "    mid = len(arr)//2\n",
    "\n",
    "    left = mergeSort(arr[:mid])\n",
    "    right = mergeSort(arr[mid:])\n",
    "    return merge(left,right)\n",
    "\n",
    "print(mergeSort([3,1,2,4,1,5,2,6,4]))"
   ]
  },
  {
   "cell_type": "code",
   "execution_count": 24,
   "id": "f6972ebb-370b-45cd-a73e-560f3dd1f494",
   "metadata": {},
   "outputs": [
    {
     "name": "stdout",
     "output_type": "stream",
     "text": [
      "[1, 5, 7, 8, 9, 10]\n"
     ]
    }
   ],
   "source": [
    "def partition(arr,low,high):\n",
    "    i = low\n",
    "    j = high\n",
    "\n",
    "    pivot = arr[low]\n",
    "\n",
    "    while i < j:\n",
    "        while i<=high-1 and arr[i] <=pivot:\n",
    "            i+=1\n",
    "        while j>=low+1 and arr[j] > pivot:\n",
    "            j-=1\n",
    "            \n",
    "        if i<j :\n",
    "            arr[i],arr[j] = arr[j],arr[i]\n",
    "            \n",
    "    arr[j] , arr[low] = arr[low],arr[j]\n",
    "    return j\n",
    "            \n",
    "                 \n",
    "            \n",
    "        \n",
    "def quickSort(arr,low,high):\n",
    "    if low < high:\n",
    "        partition_index = partition(arr,low,high)\n",
    "        quickSort(arr,low,partition_index-1)\n",
    "        quickSort(arr,partition_index+1,high)\n",
    "\n",
    "arr = [10, 7, 8, 9, 1, 5]\n",
    "quickSort(arr,0,len(arr)-1)\n",
    "\n",
    "print(arr)\n"
   ]
  }
 ],
 "metadata": {
  "kernelspec": {
   "display_name": "Python 3 (ipykernel)",
   "language": "python",
   "name": "python3"
  },
  "language_info": {
   "codemirror_mode": {
    "name": "ipython",
    "version": 3
   },
   "file_extension": ".py",
   "mimetype": "text/x-python",
   "name": "python",
   "nbconvert_exporter": "python",
   "pygments_lexer": "ipython3",
   "version": "3.12.1"
  }
 },
 "nbformat": 4,
 "nbformat_minor": 5
}
