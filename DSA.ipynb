{
 "cells": [
  {
   "cell_type": "code",
   "execution_count": 3,
   "id": "debd8aac-0837-4ebc-ad22-8caad2e4d08a",
   "metadata": {},
   "outputs": [
    {
     "name": "stdout",
     "output_type": "stream",
     "text": [
      "4\n"
     ]
    }
   ],
   "source": [
    "def linear_search(arr:list[int],search_value:int):\n",
    "    #linear search in ordered Array\n",
    "    \n",
    "    for index,ele in enumerate(arr):\n",
    "        if ele == search_value:\n",
    "            return index\n",
    "        if ele > search_value:\n",
    "            break\n",
    "\n",
    "    return None\n",
    "\n",
    "print(linear_search([3,17,75,80,202],202))"
   ]
  },
  {
   "cell_type": "code",
   "execution_count": 31,
   "id": "e2b1a1d4-96be-4822-9e85-09eb8ed77a1f",
   "metadata": {},
   "outputs": [
    {
     "name": "stdout",
     "output_type": "stream",
     "text": [
      "[3, 17, 75, 80, 202] 0 4\n",
      "2\n",
      "[80, 202] 0 1\n",
      "0\n",
      "[202] 0 0\n",
      "0\n",
      "found\n",
      "0\n"
     ]
    }
   ],
   "source": [
    "def binary_search(arr,search_value):\n",
    "    lower_bound = 0\n",
    "    upper_bound = len(arr)-1\n",
    "    print(arr,lower_bound,upper_bound)\n",
    "\n",
    "    if lower_bound <= upper_bound:\n",
    "        mid = (upper_bound+lower_bound)//2\n",
    "        print(mid)\n",
    "        if search_value < arr[mid]:\n",
    "            upper_bound = mid-1\n",
    "            return binary_search(arr[:upper_bound+1],search_value)\n",
    "        elif search_value > arr[mid]:\n",
    "            lower_bound = mid+1\n",
    "            return binary_search(arr[lower_bound:],search_value)\n",
    "        else:\n",
    "            print(\"found\")\n",
    "            return mid\n",
    "        \n",
    "\n",
    "print(binary_search([3,17,75,80,202],202))\n",
    "\n"
   ]
  },
  {
   "cell_type": "code",
   "execution_count": 10,
   "id": "d690b05a-6b6d-4735-b3e2-2da117fbd15d",
   "metadata": {},
   "outputs": [
    {
     "data": {
      "text/plain": [
       "False"
      ]
     },
     "execution_count": 10,
     "metadata": {},
     "output_type": "execute_result"
    }
   ],
   "source": [
    "import math\n",
    "def is_prime(num):\n",
    "    for i in range(2,int(math.sqrt(num))+1):\n",
    "        if num%i==0:\n",
    "            return False\n",
    "    return True\n",
    "\n",
    "is_prime(21)"
   ]
  },
  {
   "cell_type": "code",
   "execution_count": 34,
   "id": "70e9c878-591e-4621-97db-62505c9db286",
   "metadata": {},
   "outputs": [
    {
     "name": "stdout",
     "output_type": "stream",
     "text": [
      "[1, 2, 3, 4, 7]\n"
     ]
    }
   ],
   "source": [
    "def bubble_sort(arr):\n",
    "    n = len(arr)\n",
    "\n",
    "    for i in range(n-1,0,-1):\n",
    "        isSwapped = False\n",
    "        for j in  range(i):\n",
    "            if arr[j]> arr[j+1]:\n",
    "                #swap\n",
    "                isSwapped = True\n",
    "                arr[j],arr[j+1] =arr[j+1],arr[j]\n",
    "        if not isSwapped:\n",
    "            break\n",
    "    return arr\n",
    "\n",
    "print(bubble_sort([4,2,7,1,3]))"
   ]
  },
  {
   "cell_type": "code",
   "execution_count": 38,
   "id": "e0c18d92-c38b-4ac3-9981-f0981b2a04eb",
   "metadata": {},
   "outputs": [
    {
     "name": "stdout",
     "output_type": "stream",
     "text": [
      "20\n"
     ]
    }
   ],
   "source": [
    "import math\n",
    "\n",
    "def greatest_product(arr):\n",
    "    res = -math.inf\n",
    "    if len(arr)<2:\n",
    "        return None\n",
    "    n = len(arr)\n",
    "\n",
    "    for i in  range(n):\n",
    "        for j in range(i+1,n):\n",
    "            if arr[i]*arr[j]>res:\n",
    "                res = arr[i]*arr[j]\n",
    "    return res\n",
    "\n",
    "print(greatest_product([1,2,3,-4,-5]))\n",
    "    "
   ]
  },
  {
   "cell_type": "code",
   "execution_count": 43,
   "id": "8c7002ae-f6cf-4e10-91db-d9f27cea1f2c",
   "metadata": {},
   "outputs": [
    {
     "name": "stdout",
     "output_type": "stream",
     "text": [
      "3\n",
      "1\n",
      "4\n",
      "3\n",
      "4\n",
      "[1, 2, 3, 4, 7]\n"
     ]
    }
   ],
   "source": [
    "def selection_sort(arr):\n",
    "    n = len(arr)\n",
    "\n",
    "    for index in range(n):\n",
    "        low_index = index\n",
    "        for j in range(index+1,n):\n",
    "            if arr[j]<arr[low_index]:\n",
    "                low_index = j\n",
    "        print(low_index)\n",
    "        if index != low_index:\n",
    "            arr[index],arr[low_index] = arr[low_index],arr[index]\n",
    "    return arr\n",
    "\n",
    "print(selection_sort([4,2,7,1,3]))"
   ]
  },
  {
   "cell_type": "code",
   "execution_count": 44,
   "id": "2f0cad87-0fd5-4d86-a1b7-a3fd7bac3764",
   "metadata": {},
   "outputs": [
    {
     "name": "stdout",
     "output_type": "stream",
     "text": [
      "[1, 2, 3, 4, 7]\n"
     ]
    }
   ],
   "source": [
    "def insertion_sort(arr):\n",
    "    n = len(arr)\n",
    "\n",
    "    for i in range(1,n):\n",
    "        j = i-1\n",
    "        while j>=0 and arr[j] > arr[j+1]:\n",
    "            arr[j],arr[j+1] = arr[j+1],arr[j]\n",
    "            j -= 1\n",
    "    return arr\n",
    "\n",
    "print(insertion_sort([4,2,7,1,3]))\n",
    "            \n",
    "            "
   ]
  },
  {
   "cell_type": "code",
   "execution_count": 45,
   "id": "735594d5-96e1-42e5-a92a-13a59cf76287",
   "metadata": {},
   "outputs": [
    {
     "name": "stdout",
     "output_type": "stream",
     "text": [
      "[3, 4]\n"
     ]
    }
   ],
   "source": [
    "def intersection(first_arr,second_arr):\n",
    "    res = []\n",
    "    for ele in first_arr:\n",
    "        if ele in second_arr:\n",
    "            res.append(ele)\n",
    "    print(res)\n",
    "\n",
    "intersection([3,1,4,2],[4,5,3,6])\n",
    "\n",
    "    \n",
    "            "
   ]
  }
 ],
 "metadata": {
  "kernelspec": {
   "display_name": "Python 3 (ipykernel)",
   "language": "python",
   "name": "python3"
  },
  "language_info": {
   "codemirror_mode": {
    "name": "ipython",
    "version": 3
   },
   "file_extension": ".py",
   "mimetype": "text/x-python",
   "name": "python",
   "nbconvert_exporter": "python",
   "pygments_lexer": "ipython3",
   "version": "3.12.1"
  }
 },
 "nbformat": 4,
 "nbformat_minor": 5
}
